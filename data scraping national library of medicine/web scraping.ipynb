{
 "cells": [
  {
   "cell_type": "markdown",
   "id": "b4957802",
   "metadata": {},
   "source": [
    "scraping https://www.ncbi.nlm.nih.gov/pmc/"
   ]
  },
  {
   "cell_type": "code",
   "execution_count": 19,
   "id": "ea33386b",
   "metadata": {},
   "outputs": [
    {
     "name": "stderr",
     "output_type": "stream",
     "text": [
      "\n",
      "\n",
      "====== WebDriver manager ======\n",
      "Current google-chrome version is 104.0.5112\n",
      "Get LATEST chromedriver version for 104.0.5112 google-chrome\n",
      "Driver [/Users/isita/.wdm/drivers/chromedriver/mac64/104.0.5112.79/chromedriver] found in cache\n",
      "/var/folders/77/62vqfsnn1zq824lb1thq0zb80000gn/T/ipykernel_41327/3457733540.py:22: DeprecationWarning: find_element_by_class_name is deprecated. Please use find_element(by=By.CLASS_NAME, value=name) instead\n",
      "  m = driver.find_element_by_class_name(\"tt-input\")\n",
      "/var/folders/77/62vqfsnn1zq824lb1thq0zb80000gn/T/ipykernel_41327/3457733540.py:29: DeprecationWarning: find_elements_by_class_name is deprecated. Please use find_elements(by=By.CLASS_NAME, value=name) instead\n",
      "  elements = driver.find_elements_by_class_name('rslt')\n"
     ]
    },
    {
     "data": {
      "text/plain": [
       "[<selenium.webdriver.remote.webelement.WebElement (session=\"121784e66d5dc6cfb9cbf7d725dcebcb\", element=\"aa3ddc5f-7088-478a-a95f-511c04493378\")>,\n",
       " <selenium.webdriver.remote.webelement.WebElement (session=\"121784e66d5dc6cfb9cbf7d725dcebcb\", element=\"f8e464d5-e551-4ef4-b642-ad294c7bed9d\")>,\n",
       " <selenium.webdriver.remote.webelement.WebElement (session=\"121784e66d5dc6cfb9cbf7d725dcebcb\", element=\"4b303fb8-9837-45a9-b386-02c93916e823\")>,\n",
       " <selenium.webdriver.remote.webelement.WebElement (session=\"121784e66d5dc6cfb9cbf7d725dcebcb\", element=\"836ec866-feff-487b-b61b-19c89953edee\")>,\n",
       " <selenium.webdriver.remote.webelement.WebElement (session=\"121784e66d5dc6cfb9cbf7d725dcebcb\", element=\"d9a4208c-c491-4ac1-b2a4-1a3e4653e092\")>,\n",
       " <selenium.webdriver.remote.webelement.WebElement (session=\"121784e66d5dc6cfb9cbf7d725dcebcb\", element=\"31e1f8ee-0ce4-4596-93e6-ff1a6b04f70c\")>,\n",
       " <selenium.webdriver.remote.webelement.WebElement (session=\"121784e66d5dc6cfb9cbf7d725dcebcb\", element=\"567039d5-c990-4d7f-b9c7-f4bad6c0c808\")>,\n",
       " <selenium.webdriver.remote.webelement.WebElement (session=\"121784e66d5dc6cfb9cbf7d725dcebcb\", element=\"bfa04e8e-1c78-424f-887d-30c874c84616\")>,\n",
       " <selenium.webdriver.remote.webelement.WebElement (session=\"121784e66d5dc6cfb9cbf7d725dcebcb\", element=\"4e503928-1cea-4058-b181-623d9a9c7dc0\")>,\n",
       " <selenium.webdriver.remote.webelement.WebElement (session=\"121784e66d5dc6cfb9cbf7d725dcebcb\", element=\"dcad2753-cc24-4f1b-a691-fdf7a493b48e\")>,\n",
       " <selenium.webdriver.remote.webelement.WebElement (session=\"121784e66d5dc6cfb9cbf7d725dcebcb\", element=\"7d63804a-d6ca-46bc-a079-22f657619aad\")>,\n",
       " <selenium.webdriver.remote.webelement.WebElement (session=\"121784e66d5dc6cfb9cbf7d725dcebcb\", element=\"2f8d7c06-3dfb-4c34-92ad-616e81ce4e2d\")>,\n",
       " <selenium.webdriver.remote.webelement.WebElement (session=\"121784e66d5dc6cfb9cbf7d725dcebcb\", element=\"f35227cc-7673-4407-9359-60f0b6ac337f\")>,\n",
       " <selenium.webdriver.remote.webelement.WebElement (session=\"121784e66d5dc6cfb9cbf7d725dcebcb\", element=\"56940e0c-ce8e-41b2-b72a-0874bb5758dd\")>,\n",
       " <selenium.webdriver.remote.webelement.WebElement (session=\"121784e66d5dc6cfb9cbf7d725dcebcb\", element=\"dd1b32ff-15a0-4ddb-bf99-4eabad9fb6fd\")>,\n",
       " <selenium.webdriver.remote.webelement.WebElement (session=\"121784e66d5dc6cfb9cbf7d725dcebcb\", element=\"329f9601-c017-4938-844f-7a34a403cff8\")>,\n",
       " <selenium.webdriver.remote.webelement.WebElement (session=\"121784e66d5dc6cfb9cbf7d725dcebcb\", element=\"a2288978-07d8-4d03-b6b0-8f61064db9a9\")>,\n",
       " <selenium.webdriver.remote.webelement.WebElement (session=\"121784e66d5dc6cfb9cbf7d725dcebcb\", element=\"76a5c0ce-e858-4a6f-95f5-cb37d34f0a2c\")>,\n",
       " <selenium.webdriver.remote.webelement.WebElement (session=\"121784e66d5dc6cfb9cbf7d725dcebcb\", element=\"fe9c93bd-916c-4ae2-8241-38a7625356a0\")>,\n",
       " <selenium.webdriver.remote.webelement.WebElement (session=\"121784e66d5dc6cfb9cbf7d725dcebcb\", element=\"a55db23b-5d34-4c0d-a781-6028ac164937\")>]"
      ]
     },
     "execution_count": 19,
     "metadata": {},
     "output_type": "execute_result"
    }
   ],
   "source": [
    "from linkedin_scraper import Person, actions\n",
    "import os\n",
    "import sys\n",
    "import pandas as pd\n",
    "import shutil\n",
    "import re\n",
    "from datetime import datetime, date\n",
    "from random import randint\n",
    "from time import sleep\n",
    "from selenium import webdriver\n",
    "from selenium.webdriver.common.by import By\n",
    "from selenium.webdriver.firefox.options import Options\n",
    "from selenium.webdriver.chrome.service import Service\n",
    "from webdriver_manager.chrome import ChromeDriverManager\n",
    "from linkedin_scraper import Company\n",
    "from selenium import webdriver\n",
    "from selenium.webdriver.common.keys import Keys\n",
    "import time\n",
    "\n",
    "driver= webdriver.Chrome(service=Service(ChromeDriverManager().install()))\n",
    "driver.get(\"https://www.ncbi.nlm.nih.gov/pmc/\")\n",
    "m = driver.find_element_by_class_name(\"tt-input\")\n",
    "#enter search text\n",
    "m.send_keys('chronic obstructive pulmonary disease')\n",
    "\n",
    "sleep(0.2)\n",
    "#perform Google search with Keys.ENTER\n",
    "m.send_keys(Keys.ENTER)\n",
    "elements = driver.find_elements_by_class_name('rslt')\n",
    "elements"
   ]
  },
  {
   "cell_type": "code",
   "execution_count": 4,
   "id": "cfd3ad31",
   "metadata": {},
   "outputs": [
    {
     "name": "stderr",
     "output_type": "stream",
     "text": [
      "/var/folders/77/62vqfsnn1zq824lb1thq0zb80000gn/T/ipykernel_41327/3608880940.py:2: DeprecationWarning: find_element_by_class_name is deprecated. Please use find_element(by=By.CLASS_NAME, value=name) instead\n",
      "  title = i.find_element_by_class_name('title').text\n"
     ]
    },
    {
     "name": "stdout",
     "output_type": "stream",
     "text": [
      "Association of β-blocker use with survival and pulmonary function in patients with chronic obstructive pulmonary and cardiovascular disease: a systematic review and meta-analysis\n",
      "Chronic Obstructive Pulmonary Disease and the Cardiovascular System: Vascular Repair and Regeneration as a Therapeutic Target\n",
      "Inflammatory Endotype–associated Airway Microbiome in Chronic Obstructive Pulmonary Disease Clinical Stability and Exacerbations: A Multicohort Longitudinal Analysis\n",
      "Definition, Causes, Pathogenesis, and Consequences of Chronic Obstructive Pulmonary Disease Exacerbations\n",
      "Chronic obstructive pulmonary disease: More than meets the eye\n",
      "Chinese Medical Injections for Acute Exacerbation of Chronic Obstructive Pulmonary Disease: A Network Meta-analysis\n",
      "Skeletal Muscle Dysfunction in Chronic Obstructive Pulmonary Disease. What We Know and Can Do for Our Patients\n",
      "A review of therapies for the overlap syndrome of obstructive sleep apnea and chronic obstructive pulmonary disease\n",
      "Comorbidities and Chronic Obstructive Pulmonary Disease: Prevalence, Influence on Outcomes, and Management\n",
      "Dual combination therapy versus long‐acting bronchodilators alone for chronic obstructive pulmonary disease (COPD): a systematic review and network meta‐analysis\n",
      "Comorbid Conditions in Chronic Obstructive Pulmonary Disease: Potential Therapeutic Targets for Unmet Needs\n",
      "Summary of the Chronic Obstructive Pulmonary Disease Clinical Practice Guideline Revised in 2014 by the Korean Academy of Tuberculosis and Respiratory Disease\n",
      "Comparison of Clinical Characteristics and Short-Term Prognoses Within Hospitalized Chronic Obstructive Pulmonary Disease Patients Comorbid With Asthma, Bronchiectasis, and Their Overlaps: Findings From the ACURE Registry\n",
      "Evidence-based management approaches for patients with severe chronic obstructive pulmonary disease (COPD): A practice review\n",
      "Association Between Health Literacy, Electronic Health Literacy, Disease-Specific Knowledge, and Health-Related Quality of Life Among Adults With Chronic Obstructive Pulmonary Disease: Cross-Sectional Study\n",
      "Association between tumor necrosis factor-α and chronic obstructive pulmonary disease: a systematic review and meta-analysis\n",
      "Mixed Phenotype of Emphysema and Airway Wall Thickening Is Associated with Frequent Exacerbation in Chronic Obstructive Pulmonary Disease Patients\n",
      "Pathobiological mechanisms underlying metabolic syndrome (MetS) in chronic obstructive pulmonary disease (COPD): clinical significance and therapeutic strategies\n",
      "Effects of Person-Centered Care Using a Digital Platform and Structured Telephone Support for People With Chronic Obstructive Pulmonary Disease and Chronic Heart Failure: Randomized Controlled Trial\n",
      "Medication management patterns among Medicare beneficiaries with chronic obstructive pulmonary disease who initiate nebulized arformoterol treatment\n"
     ]
    }
   ],
   "source": [
    "for i in elements:\n",
    "    title = i.find_element_by_class_name('title').text\n",
    "#     print(title)\n",
    "    desc = i.find_element_by_class_name('desc').text\n",
    "    details = i.find_element_by_class_name('details').text\n",
    "    pmcid = i.find_element_by_class_name('rprtid').text"
   ]
  },
  {
   "cell_type": "code",
   "execution_count": 17,
   "id": "25027b22",
   "metadata": {},
   "outputs": [],
   "source": [
    "titles =[]\n",
    "descriptions =[]\n",
    "detail =[]\n",
    "pmcids =[]\n",
    "def scraping_pages(number_of_pages):\n",
    "    for i in range(number_of_pages):\n",
    "        elements = driver.find_elements_by_class_name('rslt')\n",
    "        for i in elements:\n",
    "            title = i.find_element_by_class_name('title').text\n",
    "#     print(title)\n",
    "            desc = i.find_element_by_class_name('desc').text\n",
    "            details = i.find_element_by_class_name('details').text\n",
    "            pmcid = i.find_element_by_class_name('rprtid').text\n",
    "            titles.append(title)\n",
    "            descriptions.append(desc)\n",
    "            detail.append(details)\n",
    "            pmcids.append(pmcid)\n",
    "        m = driver.find_elements_by_class_name(\"page_link\")\n",
    "        print(m[-2].text)\n",
    "        m[-2].click()\n",
    "        \n",
    "#enter search text\n",
    "# sleep(0.2)\n",
    "#perform Google search with Keys.ENTER\n",
    "# m[-2].click()"
   ]
  },
  {
   "cell_type": "code",
   "execution_count": 20,
   "id": "e85b2f32",
   "metadata": {},
   "outputs": [
    {
     "name": "stderr",
     "output_type": "stream",
     "text": [
      "/var/folders/77/62vqfsnn1zq824lb1thq0zb80000gn/T/ipykernel_41327/1069723238.py:7: DeprecationWarning: find_elements_by_class_name is deprecated. Please use find_elements(by=By.CLASS_NAME, value=name) instead\n",
      "  elements = driver.find_elements_by_class_name('rslt')\n",
      "/var/folders/77/62vqfsnn1zq824lb1thq0zb80000gn/T/ipykernel_41327/1069723238.py:9: DeprecationWarning: find_element_by_class_name is deprecated. Please use find_element(by=By.CLASS_NAME, value=name) instead\n",
      "  title = i.find_element_by_class_name('title').text\n",
      "/var/folders/77/62vqfsnn1zq824lb1thq0zb80000gn/T/ipykernel_41327/1069723238.py:11: DeprecationWarning: find_element_by_class_name is deprecated. Please use find_element(by=By.CLASS_NAME, value=name) instead\n",
      "  desc = i.find_element_by_class_name('desc').text\n",
      "/var/folders/77/62vqfsnn1zq824lb1thq0zb80000gn/T/ipykernel_41327/1069723238.py:12: DeprecationWarning: find_element_by_class_name is deprecated. Please use find_element(by=By.CLASS_NAME, value=name) instead\n",
      "  details = i.find_element_by_class_name('details').text\n",
      "/var/folders/77/62vqfsnn1zq824lb1thq0zb80000gn/T/ipykernel_41327/1069723238.py:13: DeprecationWarning: find_element_by_class_name is deprecated. Please use find_element(by=By.CLASS_NAME, value=name) instead\n",
      "  pmcid = i.find_element_by_class_name('rprtid').text\n",
      "/var/folders/77/62vqfsnn1zq824lb1thq0zb80000gn/T/ipykernel_41327/1069723238.py:18: DeprecationWarning: find_elements_by_class_name is deprecated. Please use find_elements(by=By.CLASS_NAME, value=name) instead\n",
      "  m = driver.find_elements_by_class_name(\"page_link\")\n"
     ]
    },
    {
     "name": "stdout",
     "output_type": "stream",
     "text": [
      "Next >\n",
      "Next >\n",
      "Next >\n",
      "Next >\n",
      "Next >\n"
     ]
    }
   ],
   "source": [
    "# enter the number of pages to scrape\n",
    "scraping_pages(5)\n",
    "data = pd.DataFrame({'titles':titles,'Descriptions':descriptions,'detail':detail,'pmcid':pmcids})"
   ]
  },
  {
   "cell_type": "code",
   "execution_count": 22,
   "id": "02c384e1",
   "metadata": {},
   "outputs": [],
   "source": [
    "data.to_excel('chronic obstructive pulmonary disease.xlsx')"
   ]
  },
  {
   "cell_type": "code",
   "execution_count": null,
   "id": "37a5ac64",
   "metadata": {},
   "outputs": [],
   "source": []
  }
 ],
 "metadata": {
  "kernelspec": {
   "display_name": "Python 3 (ipykernel)",
   "language": "python",
   "name": "python3"
  },
  "language_info": {
   "codemirror_mode": {
    "name": "ipython",
    "version": 3
   },
   "file_extension": ".py",
   "mimetype": "text/x-python",
   "name": "python",
   "nbconvert_exporter": "python",
   "pygments_lexer": "ipython3",
   "version": "3.8.8"
  }
 },
 "nbformat": 4,
 "nbformat_minor": 5
}
